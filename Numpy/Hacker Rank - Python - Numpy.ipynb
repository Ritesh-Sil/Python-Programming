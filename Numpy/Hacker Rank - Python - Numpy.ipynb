{
 "cells": [
  {
   "cell_type": "code",
   "execution_count": 1,
   "id": "be9c1bf0",
   "metadata": {},
   "outputs": [],
   "source": [
    "import numpy as np"
   ]
  },
  {
   "cell_type": "markdown",
   "id": "485fd6b6",
   "metadata": {},
   "source": [
    "# Reverse a numpy array\n",
    "https://www.hackerrank.com/challenges/np-arrays/problem?isFullScreen=true"
   ]
  },
  {
   "cell_type": "code",
   "execution_count": 2,
   "id": "7ed67edc",
   "metadata": {},
   "outputs": [
    {
     "name": "stdout",
     "output_type": "stream",
     "text": [
      "1 2 3 4 -8 -10\n"
     ]
    }
   ],
   "source": [
    "arr = input().strip().split(' ')"
   ]
  },
  {
   "cell_type": "code",
   "execution_count": 3,
   "id": "690a6785",
   "metadata": {},
   "outputs": [
    {
     "name": "stdout",
     "output_type": "stream",
     "text": [
      "['1', '2', '3', '4', '-8', '-10']\n"
     ]
    }
   ],
   "source": [
    "print(arr)"
   ]
  },
  {
   "cell_type": "code",
   "execution_count": 4,
   "id": "0b563616",
   "metadata": {},
   "outputs": [
    {
     "data": {
      "text/plain": [
       "list"
      ]
     },
     "execution_count": 4,
     "metadata": {},
     "output_type": "execute_result"
    }
   ],
   "source": [
    "type(arr)"
   ]
  },
  {
   "cell_type": "code",
   "execution_count": 5,
   "id": "db58b5c4",
   "metadata": {},
   "outputs": [],
   "source": [
    "arr.reverse()"
   ]
  },
  {
   "cell_type": "code",
   "execution_count": 10,
   "id": "dc1ec5ea",
   "metadata": {},
   "outputs": [
    {
     "name": "stdout",
     "output_type": "stream",
     "text": [
      "[-5.  4.  3.  2.  1.]\n"
     ]
    }
   ],
   "source": [
    "print(np.array(arr,float))"
   ]
  },
  {
   "cell_type": "code",
   "execution_count": 11,
   "id": "7909f7af",
   "metadata": {},
   "outputs": [
    {
     "name": "stdout",
     "output_type": "stream",
     "text": [
      "1 2 3 4 -8 -10\n",
      "[-10.  -8.   4.   3.   2.   1.]\n"
     ]
    }
   ],
   "source": [
    "import numpy\n",
    "\n",
    "def arrays(arr):\n",
    "    # complete this function\n",
    "    # use numpy.array\n",
    "    arr.reverse()\n",
    "    return numpy.array(arr,float)\n",
    "    \n",
    "\n",
    "arr = input().strip().split(' ')\n",
    "result = arrays(arr)\n",
    "print(result)"
   ]
  },
  {
   "cell_type": "markdown",
   "id": "b15cfcd4",
   "metadata": {},
   "source": [
    "# Shape and Reshape*\n",
    "https://www.hackerrank.com/challenges/np-shape-reshape/problem?isFullScreen=true"
   ]
  },
  {
   "cell_type": "code",
   "execution_count": 12,
   "id": "1cc83a49",
   "metadata": {},
   "outputs": [
    {
     "name": "stdout",
     "output_type": "stream",
     "text": [
      "1 2 3 4 5 6 7 8 9\n",
      "[[1 2 3]\n",
      " [4 5 6]\n",
      " [7 8 9]]\n"
     ]
    }
   ],
   "source": [
    "import numpy\n",
    "\n",
    "arr = input().strip().split(' ')\n",
    "np_arr = numpy.array(arr,int)\n",
    "print(numpy.reshape(np_arr,(3,3)))"
   ]
  },
  {
   "cell_type": "markdown",
   "id": "05279fe8",
   "metadata": {},
   "source": [
    "# Transpose and Flatten**\n",
    "https://www.hackerrank.com/challenges/np-transpose-and-flatten/problem?isFullScreen=true"
   ]
  },
  {
   "cell_type": "code",
   "execution_count": null,
   "id": "9f6caadc",
   "metadata": {},
   "outputs": [],
   "source": [
    "import numpy\n",
    "\n",
    "N,M = map(int,input().split(' '))\n",
    "arr = []\n",
    "for i in range(N):\n",
    "    ip_array = input().strip().split(' ')\n",
    "    arr.append(ip_array)\n",
    "    \n",
    "np_arr = numpy.array(arr,int)\n",
    "print(np_arr.transpose())\n",
    "print(np_arr.flatten())    "
   ]
  },
  {
   "cell_type": "markdown",
   "id": "8ce49538",
   "metadata": {},
   "source": [
    "# Concatenate***\n",
    "https://www.hackerrank.com/challenges/np-concatenate/problem?isFullScreen=true"
   ]
  },
  {
   "cell_type": "code",
   "execution_count": null,
   "id": "2201b0d0",
   "metadata": {},
   "outputs": [],
   "source": [
    "import numpy\n",
    "\n",
    "N,M,P = map(int,input().strip().split(' '))\n",
    "arr1 = []\n",
    "for i in range(N):\n",
    "    ip_array_N = input().strip().split(' ')\n",
    "    arr1.append(ip_array_N)\n",
    "    num_arr_n = numpy.array(arr1,int)\n",
    "\n",
    "arr2=[]\n",
    "for i in range(M):\n",
    "    ip_array_M = input().strip().split(' ')\n",
    "    arr2.append(ip_array_M)\n",
    "    num_arr_m = numpy.array(arr2,int)\n",
    "\n",
    "\n",
    "print(numpy.concatenate((num_arr_n,num_arr_m),axis=0))"
   ]
  },
  {
   "cell_type": "markdown",
   "id": "cd05f87b",
   "metadata": {},
   "source": [
    "# Zeros and Ones\n",
    "\n",
    "https://www.hackerrank.com/challenges/np-zeros-and-ones/problem?isFullScreen=true"
   ]
  },
  {
   "cell_type": "code",
   "execution_count": 29,
   "id": "2842bf53",
   "metadata": {},
   "outputs": [
    {
     "name": "stdout",
     "output_type": "stream",
     "text": [
      "3 3 3\n",
      "[[[0 0 0]\n",
      "  [0 0 0]\n",
      "  [0 0 0]]\n",
      "\n",
      " [[0 0 0]\n",
      "  [0 0 0]\n",
      "  [0 0 0]]\n",
      "\n",
      " [[0 0 0]\n",
      "  [0 0 0]\n",
      "  [0 0 0]]]\n",
      "[[[1 1 1]\n",
      "  [1 1 1]\n",
      "  [1 1 1]]\n",
      "\n",
      " [[1 1 1]\n",
      "  [1 1 1]\n",
      "  [1 1 1]]\n",
      "\n",
      " [[1 1 1]\n",
      "  [1 1 1]\n",
      "  [1 1 1]]]\n"
     ]
    }
   ],
   "source": [
    "import numpy\n",
    "\n",
    "input_tuple = tuple(map(int,input().strip().split(' ')))\n",
    "print(numpy.zeros(input_tuple,int))\n",
    "print(numpy.ones(input_tuple,int))"
   ]
  },
  {
   "cell_type": "markdown",
   "id": "31e98504",
   "metadata": {},
   "source": [
    "# Identity and eye\n",
    "\n",
    "https://www.hackerrank.com/challenges/np-eye-and-identity/problem?isFullScreen=true"
   ]
  },
  {
   "cell_type": "code",
   "execution_count": 34,
   "id": "c129ead7",
   "metadata": {},
   "outputs": [
    {
     "name": "stdout",
     "output_type": "stream",
     "text": [
      "3 3\n",
      "[[ 1.  0.  0.]\n",
      " [ 0.  1.  0.]\n",
      " [ 0.  0.  1.]]\n"
     ]
    }
   ],
   "source": [
    "import numpy\n",
    "\n",
    "numpy.set_printoptions(legacy = '1.13')\n",
    "m,n = map(int,input().strip().split(' '))\n",
    "print(numpy.eye(m,n,k=0))"
   ]
  },
  {
   "cell_type": "markdown",
   "id": "3786c1fe",
   "metadata": {},
   "source": [
    "# Array mathematics\n",
    "\n",
    "https://www.hackerrank.com/challenges/np-array-mathematics/problem?isFullScreen=true"
   ]
  },
  {
   "cell_type": "code",
   "execution_count": 39,
   "id": "da6b987a",
   "metadata": {},
   "outputs": [
    {
     "name": "stdout",
     "output_type": "stream",
     "text": [
      "1 4\n",
      "1 2 3 4\n",
      "5 6 7 8\n",
      "[[ 6  8 10 12]]\n",
      "[[-4 -4 -4 -4]]\n",
      "[[ 5 12 21 32]]\n",
      "[[0 0 0 0]]\n",
      "[[1 2 3 4]]\n",
      "[[    1    64  2187 65536]]\n"
     ]
    }
   ],
   "source": [
    "import numpy\n",
    "\n",
    "n,m = map(int,input().strip().split(' '))\n",
    "arr_1 = []\n",
    "arr_2 = []\n",
    "for i in range(n):\n",
    "    ip_arr_1 = input().strip().split(' ')\n",
    "    arr_1.append(ip_arr_1)\n",
    "    A = numpy.array(arr_1,int)\n",
    "\n",
    "for i in range(n):\n",
    "    ip_arr_2 = input().strip().split(' ')\n",
    "    arr_2.append(ip_arr_2)\n",
    "    B = numpy.array(arr_2,int)\n",
    "    \n",
    "    \n",
    "print(A+B)\n",
    "print(A-B)\n",
    "print(A*B)\n",
    "print(A//B)\n",
    "print(A%B)\n",
    "print(A**B)"
   ]
  },
  {
   "cell_type": "markdown",
   "id": "34096726",
   "metadata": {},
   "source": [
    "# Floor, Ceil and Rint\n",
    "\n",
    "https://www.hackerrank.com/challenges/floor-ceil-and-rint/problem?isFullScreen=true"
   ]
  },
  {
   "cell_type": "code",
   "execution_count": null,
   "id": "16c220e4",
   "metadata": {},
   "outputs": [],
   "source": [
    "import numpy\n",
    "\n",
    "numpy.set_printoptions(legacy = '1.13')\n",
    "\n",
    "List = list(input().strip().split())\n",
    "\n",
    "num_arr = numpy.array(List,float)\n",
    "\n",
    "print(numpy.floor(num_arr))\n",
    "print(numpy.ceil(num_arr))\n",
    "print(numpy.rint(num_arr))"
   ]
  },
  {
   "cell_type": "markdown",
   "id": "f4a441f8",
   "metadata": {},
   "source": [
    "# Sum and Prod\n",
    "\n",
    "https://www.hackerrank.com/challenges/np-sum-and-prod/problem?isFullScreen=true"
   ]
  },
  {
   "cell_type": "code",
   "execution_count": null,
   "id": "ecbb5c1e",
   "metadata": {},
   "outputs": [],
   "source": [
    "import numpy\n",
    "\n",
    "n,m=map(int,input().strip().split())\n",
    "\n",
    "arr = []\n",
    "for i in range(n):\n",
    "    ip_arr = input().strip().split()\n",
    "    arr.append(ip_arr)\n",
    "\n",
    "num_arr = numpy.array(arr,int)\n",
    "sum_num_arr  = numpy.sum(num_arr,axis=0)\n",
    "print(numpy.prod(sum_num_arr,axis=0))"
   ]
  },
  {
   "cell_type": "markdown",
   "id": "3cc897d3",
   "metadata": {},
   "source": [
    "# Min and Max\n",
    "\n",
    "https://www.hackerrank.com/challenges/np-min-and-max/problem?isFullScreen=true"
   ]
  },
  {
   "cell_type": "code",
   "execution_count": null,
   "id": "7e594fb4",
   "metadata": {},
   "outputs": [],
   "source": [
    "import numpy\n",
    "n,m = map(int,input().strip().split())\n",
    "\n",
    "arr = []\n",
    "for i in range(n):\n",
    "    ip_arr = input().strip().split()\n",
    "    arr.append(ip_arr)\n",
    "    \n",
    "num_arr = numpy.array(arr,int)\n",
    "\n",
    "min_num_arr = numpy.min(num_arr,axis=1)\n",
    "print(numpy.max(min_num_arr))"
   ]
  },
  {
   "cell_type": "markdown",
   "id": "7ef2ef74",
   "metadata": {},
   "source": [
    "# Mean, Var, and Std***\n",
    "\n",
    "https://www.hackerrank.com/challenges/np-mean-var-and-std/problem?isFullScreen=true"
   ]
  },
  {
   "cell_type": "code",
   "execution_count": null,
   "id": "66722d5d",
   "metadata": {},
   "outputs": [],
   "source": [
    "import numpy\n",
    "\n",
    "n,m = map(int,input().strip().split(' '))\n",
    "arr = []\n",
    "for i in range(n):\n",
    "    ip_arr = input().strip().split()\n",
    "    arr.append(ip_arr)\n",
    "num_arr = numpy.array(arr,int)\n",
    "print(numpy.mean(num_arr,axis=1))\n",
    "print(numpy.var(num_arr,axis=0))\n",
    "print(round(numpy.std(num_arr,axis=None),11))"
   ]
  },
  {
   "cell_type": "markdown",
   "id": "0b8456ec",
   "metadata": {},
   "source": [
    "# Dot and Cross***\n",
    "\n",
    "https://www.hackerrank.com/challenges/np-dot-and-cross/problem?isFullScreen=true"
   ]
  },
  {
   "cell_type": "code",
   "execution_count": null,
   "id": "307a7062",
   "metadata": {},
   "outputs": [],
   "source": [
    "import numpy\n",
    "\n",
    "n = int(input().strip())\n",
    "\n",
    "arr_a = []\n",
    "for i in range(n):\n",
    "    ip_array_a = input().strip().split()\n",
    "    arr_a.append(ip_array_a)\n",
    "\n",
    "arr_b = []\n",
    "for i in range(n):\n",
    "    ip_array_b = input().strip().split()\n",
    "    arr_b.append(ip_array_b)\n",
    "\n",
    "num_arr_a = numpy.array(arr_a,int)\n",
    "num_arr_b = numpy.array(arr_b,int)\n",
    "\n",
    "print(numpy.dot(num_arr_a,num_arr_b))"
   ]
  },
  {
   "cell_type": "markdown",
   "id": "cf3d044e",
   "metadata": {},
   "source": [
    "# Inner and Outer\n",
    "\n",
    "https://www.hackerrank.com/challenges/np-inner-and-outer/problem?isFullScreen=true"
   ]
  },
  {
   "cell_type": "code",
   "execution_count": null,
   "id": "4f04324c",
   "metadata": {},
   "outputs": [],
   "source": [
    "import numpy\n",
    "\n",
    "arr_a = numpy.array(input().strip().split(' '),int)\n",
    "arr_b = numpy.array(input().strip().split(' '),int)\n",
    "\n",
    "print(numpy.inner(arr_a,arr_b))\n",
    "print(numpy.outer(arr_a,arr_b))"
   ]
  },
  {
   "cell_type": "markdown",
   "id": "c0d8c648",
   "metadata": {},
   "source": [
    "# Polynomials***\n",
    "\n",
    "https://www.hackerrank.com/challenges/np-polynomials/problem?isFullScreen=true"
   ]
  },
  {
   "cell_type": "code",
   "execution_count": null,
   "id": "ca67015d",
   "metadata": {},
   "outputs": [],
   "source": [
    "import numpy\n",
    "\n",
    "coeff = list(map(float,input().strip().split()))\n",
    "point = int(input().strip())\n",
    "\n",
    "print(numpy.polyval(coeff,point))"
   ]
  },
  {
   "cell_type": "markdown",
   "id": "49c322aa",
   "metadata": {},
   "source": [
    "# Linear Algebra***\n",
    "\n",
    "https://www.hackerrank.com/challenges/np-linear-algebra/problem?isFullScreen=true"
   ]
  },
  {
   "cell_type": "code",
   "execution_count": null,
   "id": "7d28b4f7",
   "metadata": {},
   "outputs": [],
   "source": [
    "import numpy\n",
    "\n",
    "n =int(input().strip())\n",
    "arr = []\n",
    "for i in range(n):\n",
    "    ip_arr = list(map(float,input().strip().split(' ')))\n",
    "    arr.append(ip_arr)\n",
    "    \n",
    "#print(arr)\n",
    "\n",
    "result = numpy.linalg.det(arr)\n",
    "print(round(result,2))"
   ]
  },
  {
   "cell_type": "code",
   "execution_count": null,
   "id": "ccd44c4d",
   "metadata": {},
   "outputs": [],
   "source": []
  }
 ],
 "metadata": {
  "kernelspec": {
   "display_name": "Python 3 (ipykernel)",
   "language": "python",
   "name": "python3"
  },
  "language_info": {
   "codemirror_mode": {
    "name": "ipython",
    "version": 3
   },
   "file_extension": ".py",
   "mimetype": "text/x-python",
   "name": "python",
   "nbconvert_exporter": "python",
   "pygments_lexer": "ipython3",
   "version": "3.9.7"
  }
 },
 "nbformat": 4,
 "nbformat_minor": 5
}
