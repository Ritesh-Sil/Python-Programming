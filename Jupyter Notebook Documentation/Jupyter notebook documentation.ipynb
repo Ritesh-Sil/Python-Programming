{
 "cells": [
  {
   "cell_type": "markdown",
   "id": "8ed853a9",
   "metadata": {},
   "source": [
    "# Jupyter notebook Mark down tutorial : - \n",
    "\n",
    "[Tutorial Link](https://www.youtube.com/watch?v=jBCB23pQeIA)"
   ]
  },
  {
   "cell_type": "markdown",
   "id": "d87a31e3",
   "metadata": {},
   "source": [
    "### Heading\n",
    "\n",
    "<a id=\"Heading\"></a>"
   ]
  },
  {
   "cell_type": "code",
   "execution_count": 4,
   "id": "91f9bc5d",
   "metadata": {},
   "outputs": [],
   "source": [
    "#We have 5 types of heading styles as below  : - \n",
    "\n",
    "# Heading 1\n",
    "## Heading 2\n",
    "### Heading 3\n",
    "#### Heading 4\n",
    "##### Heading 5\n"
   ]
  },
  {
   "cell_type": "markdown",
   "id": "497dc0dc",
   "metadata": {},
   "source": [
    "# Heading 1\n",
    "## Heading 2\n",
    "### Heading 3\n",
    "#### Heading 4\n",
    "##### Heading 5"
   ]
  },
  {
   "cell_type": "markdown",
   "id": "f4f00416",
   "metadata": {},
   "source": [
    "**_______________________________________________________________________________**"
   ]
  },
  {
   "cell_type": "markdown",
   "id": "4c5db287",
   "metadata": {},
   "source": [
    "### Lists\n",
    "\n",
    "<a id=\"Lists\"></a>"
   ]
  },
  {
   "cell_type": "code",
   "execution_count": 5,
   "id": "e9f26e8c",
   "metadata": {},
   "outputs": [],
   "source": [
    "#We have to use * followed by a space\n",
    "\n",
    "# * 1st point\n",
    "# * 2nd point\n",
    "#     * 1st sub-point\n",
    "#     * 2nd sub-point\n",
    "#         * 1st sub-sub point\n",
    "#         * 2nd sub-sub point"
   ]
  },
  {
   "cell_type": "markdown",
   "id": "2d915f4b",
   "metadata": {},
   "source": [
    "* 1st point\n",
    "* 2nd point\n",
    "    * 1st sub-point\n",
    "    * 2nd sub-point\n",
    "        * 1st sub-sub point\n",
    "        * 2nd sub-sub point"
   ]
  },
  {
   "cell_type": "markdown",
   "id": "27bf7994",
   "metadata": {},
   "source": [
    "**_________________________________________________**"
   ]
  },
  {
   "cell_type": "markdown",
   "id": "77bb0048",
   "metadata": {},
   "source": [
    "### Numbered Lists\n",
    "\n",
    "<a id=\"NumberedLists\"></a> "
   ]
  },
  {
   "cell_type": "code",
   "execution_count": 11,
   "id": "9240aa39",
   "metadata": {},
   "outputs": [],
   "source": [
    "# 1. 1st item\n",
    "# 2. 2nd item\n",
    "#     1. 1st sub-item\n",
    "#     2. 2nd sub-item\n",
    "#         1. 1st sub-item\n",
    "#         2. 2nd sub-item"
   ]
  },
  {
   "cell_type": "markdown",
   "id": "873cde46",
   "metadata": {},
   "source": [
    "1. 1st item\n",
    "2. 2nd item\n",
    "    1. 1st sub-item\n",
    "    2. 2nd sub-item\n",
    "        1. 1st sub-item\n",
    "        2. 2nd sub-item"
   ]
  },
  {
   "cell_type": "markdown",
   "id": "202183f8",
   "metadata": {},
   "source": [
    "**_________________________________________________**"
   ]
  },
  {
   "cell_type": "markdown",
   "id": "27a47dda",
   "metadata": {},
   "source": [
    "### Links"
   ]
  },
  {
   "cell_type": "code",
   "execution_count": 12,
   "id": "d2c7ad9d",
   "metadata": {},
   "outputs": [],
   "source": [
    "#[<Give the text to be displayed>](<just put the url here>)"
   ]
  },
  {
   "cell_type": "markdown",
   "id": "1cc75f59",
   "metadata": {},
   "source": [
    "[link here](https://www.youtube.com/watch?v=jBCB23pQeIA)"
   ]
  },
  {
   "cell_type": "markdown",
   "id": "4adced11",
   "metadata": {},
   "source": [
    "**_________________________________________________**"
   ]
  },
  {
   "cell_type": "markdown",
   "id": "b1ebf62c",
   "metadata": {},
   "source": [
    "### Links inside the document"
   ]
  },
  {
   "cell_type": "code",
   "execution_count": 16,
   "id": "f5447563",
   "metadata": {},
   "outputs": [],
   "source": [
    "#<a id=\"Heading\"></a> --> this should be added to the Heading section\n",
    "#[Go to Heading](#Heading)\n",
    "\n",
    "#<a id=\"Lists\"></a> --> this should be added to the Lists section\n",
    "#[Lists](#Lists) \n",
    "\n",
    "\n",
    "#<a id=\"NumberedLists\"></a> --> this should be added to the NumberedList section\n",
    "#[Numbered List](#NumberedLists)"
   ]
  },
  {
   "cell_type": "markdown",
   "id": "ed054495",
   "metadata": {},
   "source": [
    "[Go to Heading](#Heading)"
   ]
  },
  {
   "cell_type": "markdown",
   "id": "32ffeaf0",
   "metadata": {},
   "source": [
    "[Lists](#Lists)"
   ]
  },
  {
   "cell_type": "markdown",
   "id": "c7c4d8d4",
   "metadata": {},
   "source": [
    "[Numbered List](#NumberedLists)"
   ]
  },
  {
   "cell_type": "markdown",
   "id": "b47c5a2b",
   "metadata": {},
   "source": [
    "**_________________________________________________**"
   ]
  },
  {
   "cell_type": "code",
   "execution_count": null,
   "id": "e131aed2",
   "metadata": {},
   "outputs": [],
   "source": []
  }
 ],
 "metadata": {
  "kernelspec": {
   "display_name": "Python 3 (ipykernel)",
   "language": "python",
   "name": "python3"
  },
  "language_info": {
   "codemirror_mode": {
    "name": "ipython",
    "version": 3
   },
   "file_extension": ".py",
   "mimetype": "text/x-python",
   "name": "python",
   "nbconvert_exporter": "python",
   "pygments_lexer": "ipython3",
   "version": "3.9.7"
  }
 },
 "nbformat": 4,
 "nbformat_minor": 5
}
