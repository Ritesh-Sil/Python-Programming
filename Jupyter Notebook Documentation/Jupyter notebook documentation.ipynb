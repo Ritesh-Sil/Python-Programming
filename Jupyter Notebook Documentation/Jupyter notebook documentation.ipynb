{
 "cells": [
  {
   "cell_type": "markdown",
   "id": "1b50c3f0",
   "metadata": {},
   "source": [
    "# Jupyter notebook Mark down tutorial : - \n",
    "\n",
    "* Acknowledgement and reference - \n",
    "\n",
    "**[ignite.byu.edu youtube channel](https://www.youtube.com/watch?v=jBCB23pQeIA)**"
   ]
  },
  {
   "cell_type": "markdown",
   "id": "8a91e028",
   "metadata": {},
   "source": [
    "### Heading\n",
    "\n",
    "<a id=\"Heading\"></a>"
   ]
  },
  {
   "cell_type": "code",
   "execution_count": 4,
   "id": "f93e5894",
   "metadata": {},
   "outputs": [],
   "source": [
    "#We have 5 types of heading styles as below  : - \n",
    "\n",
    "# Heading 1\n",
    "## Heading 2\n",
    "### Heading 3\n",
    "#### Heading 4\n",
    "##### Heading 5\n"
   ]
  },
  {
   "cell_type": "markdown",
   "id": "c557fac1",
   "metadata": {},
   "source": [
    "# Heading 1\n",
    "## Heading 2\n",
    "### Heading 3\n",
    "#### Heading 4\n",
    "##### Heading 5"
   ]
  },
  {
   "cell_type": "markdown",
   "id": "25bc731e",
   "metadata": {},
   "source": [
    "**_______________________________________________________________________________**"
   ]
  },
  {
   "cell_type": "markdown",
   "id": "539e82b1",
   "metadata": {},
   "source": [
    "### Lists\n",
    "\n",
    "<a id=\"Lists\"></a>"
   ]
  },
  {
   "cell_type": "code",
   "execution_count": 5,
   "id": "4e6efd2b",
   "metadata": {},
   "outputs": [],
   "source": [
    "#We have to use * followed by a space\n",
    "\n",
    "# * 1st point\n",
    "# * 2nd point\n",
    "#     * 1st sub-point\n",
    "#     * 2nd sub-point\n",
    "#         * 1st sub-sub point\n",
    "#         * 2nd sub-sub point"
   ]
  },
  {
   "cell_type": "markdown",
   "id": "55d1234d",
   "metadata": {},
   "source": [
    "* 1st point\n",
    "* 2nd point\n",
    "    * 1st sub-point\n",
    "    * 2nd sub-point\n",
    "        * 1st sub-sub point\n",
    "        * 2nd sub-sub point"
   ]
  },
  {
   "cell_type": "markdown",
   "id": "20fef9da",
   "metadata": {},
   "source": [
    "**_________________________________________________**"
   ]
  },
  {
   "cell_type": "markdown",
   "id": "1ebe6729",
   "metadata": {},
   "source": [
    "### Numbered Lists\n",
    "\n",
    "<a id=\"NumberedLists\"></a> "
   ]
  },
  {
   "cell_type": "code",
   "execution_count": 11,
   "id": "48523f5e",
   "metadata": {},
   "outputs": [],
   "source": [
    "# 1. 1st item\n",
    "# 2. 2nd item\n",
    "#     1. 1st sub-item\n",
    "#     2. 2nd sub-item\n",
    "#         1. 1st sub-item\n",
    "#         2. 2nd sub-item"
   ]
  },
  {
   "cell_type": "markdown",
   "id": "fe664fb8",
   "metadata": {},
   "source": [
    "1. 1st item\n",
    "2. 2nd item\n",
    "    1. 1st sub-item\n",
    "    2. 2nd sub-item\n",
    "        1. 1st sub-item\n",
    "        2. 2nd sub-item"
   ]
  },
  {
   "cell_type": "markdown",
   "id": "845f1d5b",
   "metadata": {},
   "source": [
    "**_________________________________________________**"
   ]
  },
  {
   "cell_type": "markdown",
   "id": "97a9abd2",
   "metadata": {},
   "source": [
    "### Links"
   ]
  },
  {
   "cell_type": "code",
   "execution_count": 12,
   "id": "a27e4262",
   "metadata": {},
   "outputs": [],
   "source": [
    "#[<Give the text to be displayed>](<just put the url here>)"
   ]
  },
  {
   "cell_type": "markdown",
   "id": "02056827",
   "metadata": {},
   "source": [
    "[link here](https://www.youtube.com/watch?v=jBCB23pQeIA)"
   ]
  },
  {
   "cell_type": "markdown",
   "id": "8962778c",
   "metadata": {},
   "source": [
    "**_________________________________________________**"
   ]
  },
  {
   "cell_type": "markdown",
   "id": "fe715b52",
   "metadata": {},
   "source": [
    "### Links inside the document"
   ]
  },
  {
   "cell_type": "code",
   "execution_count": 16,
   "id": "c330c37a",
   "metadata": {},
   "outputs": [],
   "source": [
    "#<a id=\"Heading\"></a> --> this should be added to the Heading section\n",
    "#[Go to Heading](#Heading)\n",
    "\n",
    "#<a id=\"Lists\"></a> --> this should be added to the Lists section\n",
    "#[Lists](#Lists) \n",
    "\n",
    "\n",
    "#<a id=\"NumberedLists\"></a> --> this should be added to the NumberedList section\n",
    "#[Numbered List](#NumberedLists)"
   ]
  },
  {
   "cell_type": "markdown",
   "id": "81474e88",
   "metadata": {},
   "source": [
    "[Go to Heading](#Heading)"
   ]
  },
  {
   "cell_type": "markdown",
   "id": "8f56e9c8",
   "metadata": {},
   "source": [
    "[Lists](#Lists)"
   ]
  },
  {
   "cell_type": "markdown",
   "id": "bdeccd85",
   "metadata": {},
   "source": [
    "[Numbered List](#NumberedLists)"
   ]
  },
  {
   "cell_type": "markdown",
   "id": "6ee6d89f",
   "metadata": {},
   "source": [
    "**_________________________________________________**"
   ]
  },
  {
   "cell_type": "code",
   "execution_count": null,
   "id": "f6ad8347",
   "metadata": {},
   "outputs": [],
   "source": []
  }
 ],
 "metadata": {
  "kernelspec": {
   "display_name": "Python 3 (ipykernel)",
   "language": "python",
   "name": "python3"
  },
  "language_info": {
   "codemirror_mode": {
    "name": "ipython",
    "version": 3
   },
   "file_extension": ".py",
   "mimetype": "text/x-python",
   "name": "python",
   "nbconvert_exporter": "python",
   "pygments_lexer": "ipython3",
   "version": "3.9.7"
  }
 },
 "nbformat": 4,
 "nbformat_minor": 5
}
