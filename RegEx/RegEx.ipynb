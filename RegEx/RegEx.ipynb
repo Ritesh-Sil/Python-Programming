{
 "cells": [
  {
   "cell_type": "markdown",
   "id": "b86e440c",
   "metadata": {},
   "source": [
    "# Basic Begining of regular expressions \n",
    "\n",
    "### Good resource to refer : \n",
    "\n",
    "    #1. https://www.youtube.com/watch?v=VU60rEXaOXk&list=PLGKQkV4guDKH1TpfM-FvPGLUyjsPGdXOg&index=1\n",
    "    #2. https://github.com/moondra2017/Python-Regular-Expressions"
   ]
  },
  {
   "cell_type": "code",
   "execution_count": 8,
   "id": "2bfa0daf",
   "metadata": {},
   "outputs": [],
   "source": [
    "import re\n",
    "re.search('\\n',r'\\n\\n\\n\\n\\n')"
   ]
  },
  {
   "cell_type": "code",
   "execution_count": 11,
   "id": "039b1e55",
   "metadata": {},
   "outputs": [
    {
     "data": {
      "text/plain": [
       "<re.Match object; span=(2, 3), match='c'>"
      ]
     },
     "execution_count": 11,
     "metadata": {},
     "output_type": "execute_result"
    }
   ],
   "source": [
    "re.search('c','bacdef')"
   ]
  },
  {
   "cell_type": "code",
   "execution_count": 10,
   "id": "4e1c9745",
   "metadata": {},
   "outputs": [],
   "source": [
    "re.match('c','abcdef')"
   ]
  },
  {
   "cell_type": "code",
   "execution_count": 12,
   "id": "06183e03",
   "metadata": {},
   "outputs": [
    {
     "data": {
      "text/plain": [
       "False"
      ]
     },
     "execution_count": 12,
     "metadata": {},
     "output_type": "execute_result"
    }
   ],
   "source": [
    "bool(re.match('c','abcdef'))"
   ]
  },
  {
   "cell_type": "code",
   "execution_count": 13,
   "id": "b8c30add",
   "metadata": {},
   "outputs": [
    {
     "data": {
      "text/plain": [
       "True"
      ]
     },
     "execution_count": 13,
     "metadata": {},
     "output_type": "execute_result"
    }
   ],
   "source": [
    "bool(re.search('c','abcdef'))"
   ]
  },
  {
   "cell_type": "code",
   "execution_count": 14,
   "id": "b00da9c9",
   "metadata": {},
   "outputs": [
    {
     "data": {
      "text/plain": [
       "<re.Match object; span=(2, 3), match='c'>"
      ]
     },
     "execution_count": 14,
     "metadata": {},
     "output_type": "execute_result"
    }
   ],
   "source": [
    "re.search('c','abcecedfec')"
   ]
  },
  {
   "cell_type": "code",
   "execution_count": 15,
   "id": "78089998",
   "metadata": {},
   "outputs": [],
   "source": [
    "re.match('c','abcecedfec')"
   ]
  },
  {
   "cell_type": "code",
   "execution_count": 16,
   "id": "1092aff6",
   "metadata": {},
   "outputs": [
    {
     "data": {
      "text/plain": [
       "['c', 'c', 'c']"
      ]
     },
     "execution_count": 16,
     "metadata": {},
     "output_type": "execute_result"
    }
   ],
   "source": [
    "re.findall('c','abcecedfec')"
   ]
  },
  {
   "cell_type": "code",
   "execution_count": 18,
   "id": "662cb750",
   "metadata": {},
   "outputs": [
    {
     "data": {
      "text/plain": [
       "<re.Match object; span=(6, 7), match='c'>"
      ]
     },
     "execution_count": 18,
     "metadata": {},
     "output_type": "execute_result"
    }
   ],
   "source": [
    "re.search('c','abdef\\ncdbac')"
   ]
  },
  {
   "cell_type": "code",
   "execution_count": 19,
   "id": "86b0f34d",
   "metadata": {},
   "outputs": [],
   "source": [
    "re.match('c','abdef\\ncdbac')"
   ]
  },
  {
   "cell_type": "code",
   "execution_count": 20,
   "id": "4283ad93",
   "metadata": {},
   "outputs": [
    {
     "data": {
      "text/plain": [
       "['c', 'c']"
      ]
     },
     "execution_count": 20,
     "metadata": {},
     "output_type": "execute_result"
    }
   ],
   "source": [
    "re.findall('c','abdef\\ncdbac')"
   ]
  },
  {
   "cell_type": "code",
   "execution_count": 21,
   "id": "ffbf2e7d",
   "metadata": {},
   "outputs": [
    {
     "data": {
      "text/plain": [
       "'c'"
      ]
     },
     "execution_count": 21,
     "metadata": {},
     "output_type": "execute_result"
    }
   ],
   "source": [
    "re.search('c','abdef\\ncdbac').group()"
   ]
  },
  {
   "cell_type": "code",
   "execution_count": 27,
   "id": "99a3bd4f",
   "metadata": {},
   "outputs": [
    {
     "data": {
      "text/plain": [
       "['c', 'c']"
      ]
     },
     "execution_count": 27,
     "metadata": {},
     "output_type": "execute_result"
    }
   ],
   "source": [
    "re.findall('c','abdef\\ncdbac')"
   ]
  },
  {
   "cell_type": "code",
   "execution_count": 33,
   "id": "df02e413",
   "metadata": {},
   "outputs": [
    {
     "data": {
      "text/plain": [
       "<re.Match object; span=(4, 5), match='n'>"
      ]
     },
     "execution_count": 33,
     "metadata": {},
     "output_type": "execute_result"
    }
   ],
   "source": [
    "re.search(r'n|a|b',r'def\\ncdbac')"
   ]
  },
  {
   "cell_type": "code",
   "execution_count": 34,
   "id": "7f940fee",
   "metadata": {},
   "outputs": [
    {
     "data": {
      "text/plain": [
       "['n', 'b', 'a']"
      ]
     },
     "execution_count": 34,
     "metadata": {},
     "output_type": "execute_result"
    }
   ],
   "source": [
    "re.findall(r'n|a|b',r'def\\ncdbac')"
   ]
  },
  {
   "cell_type": "code",
   "execution_count": 35,
   "id": "47938a88",
   "metadata": {},
   "outputs": [],
   "source": [
    "re.match(r'n|a|b',r'def\\ncdbac')"
   ]
  },
  {
   "cell_type": "code",
   "execution_count": 36,
   "id": "4fcd1dd5",
   "metadata": {},
   "outputs": [
    {
     "data": {
      "text/plain": [
       "<re.Match object; span=(0, 1), match='a'>"
      ]
     },
     "execution_count": 36,
     "metadata": {},
     "output_type": "execute_result"
    }
   ],
   "source": [
    "re.match(r'n|a|b',r'abdef\\ncdbac')"
   ]
  },
  {
   "cell_type": "code",
   "execution_count": 40,
   "id": "5c7913f4",
   "metadata": {},
   "outputs": [
    {
     "data": {
      "text/plain": [
       "<re.Match object; span=(0, 2), match='ab'>"
      ]
     },
     "execution_count": 40,
     "metadata": {},
     "output_type": "execute_result"
    }
   ],
   "source": [
    "re.search('ab',r'abdef\\ncdbbabc')"
   ]
  },
  {
   "cell_type": "code",
   "execution_count": 41,
   "id": "eef72ec0",
   "metadata": {},
   "outputs": [
    {
     "data": {
      "text/plain": [
       "<re.Match object; span=(0, 2), match='ab'>"
      ]
     },
     "execution_count": 41,
     "metadata": {},
     "output_type": "execute_result"
    }
   ],
   "source": [
    "re.match('ab',r'abdef\\ncdbabc')"
   ]
  },
  {
   "cell_type": "code",
   "execution_count": 47,
   "id": "0e88a749",
   "metadata": {},
   "outputs": [
    {
     "data": {
      "text/plain": [
       "0"
      ]
     },
     "execution_count": 47,
     "metadata": {},
     "output_type": "execute_result"
    }
   ],
   "source": [
    "re.findall('ab',r'abdef\\ncdbabc')"
   ]
  },
  {
   "cell_type": "markdown",
   "id": "bb467533",
   "metadata": {},
   "source": [
    "1. Match, \n",
    "2. RawString , \n",
    "3. backslash charaters , \n",
    "4. Search, \n",
    "5. Findall, \n",
    "6. Group(), \n",
    "7. Or pattern"
   ]
  },
  {
   "cell_type": "code",
   "execution_count": 48,
   "id": "f7b4efcb",
   "metadata": {},
   "outputs": [
    {
     "data": {
      "text/plain": [
       "<re.Match object; span=(2, 3), match='a'>"
      ]
     },
     "execution_count": 48,
     "metadata": {},
     "output_type": "execute_result"
    }
   ],
   "source": [
    "re.search('a','black')"
   ]
  },
  {
   "cell_type": "code",
   "execution_count": 49,
   "id": "8c30e886",
   "metadata": {},
   "outputs": [],
   "source": [
    "re.match('a','black')"
   ]
  },
  {
   "cell_type": "code",
   "execution_count": 51,
   "id": "18a9b5a9",
   "metadata": {},
   "outputs": [
    {
     "data": {
      "text/plain": [
       "False"
      ]
     },
     "execution_count": 51,
     "metadata": {},
     "output_type": "execute_result"
    }
   ],
   "source": [
    "bool(re.match('a','mango'))"
   ]
  },
  {
   "cell_type": "code",
   "execution_count": 52,
   "id": "9ca6b496",
   "metadata": {},
   "outputs": [
    {
     "data": {
      "text/plain": [
       "True"
      ]
     },
     "execution_count": 52,
     "metadata": {},
     "output_type": "execute_result"
    }
   ],
   "source": [
    "bool(re.match('a','ant'))"
   ]
  },
  {
   "cell_type": "code",
   "execution_count": 53,
   "id": "55bd3594",
   "metadata": {},
   "outputs": [
    {
     "data": {
      "text/plain": [
       "['a', 'a', 'a']"
      ]
     },
     "execution_count": 53,
     "metadata": {},
     "output_type": "execute_result"
    }
   ],
   "source": [
    "re.findall('a','alibaba')"
   ]
  },
  {
   "cell_type": "code",
   "execution_count": 55,
   "id": "eb1edc7b",
   "metadata": {},
   "outputs": [
    {
     "data": {
      "text/plain": [
       "'a'"
      ]
     },
     "execution_count": 55,
     "metadata": {},
     "output_type": "execute_result"
    }
   ],
   "source": [
    "re.search('a','alibaba').group()"
   ]
  },
  {
   "cell_type": "code",
   "execution_count": 56,
   "id": "e84816a3",
   "metadata": {},
   "outputs": [
    {
     "data": {
      "text/plain": [
       "['a', 'a', 'a']"
      ]
     },
     "execution_count": 56,
     "metadata": {},
     "output_type": "execute_result"
    }
   ],
   "source": [
    "re.findall('a','alibaba')"
   ]
  },
  {
   "cell_type": "code",
   "execution_count": 60,
   "id": "97f3e8be",
   "metadata": {},
   "outputs": [
    {
     "data": {
      "text/plain": [
       "True"
      ]
     },
     "execution_count": 60,
     "metadata": {},
     "output_type": "execute_result"
    }
   ],
   "source": [
    "bool(re.search('b|a|n','findall'))"
   ]
  },
  {
   "cell_type": "markdown",
   "id": "926a29b7",
   "metadata": {},
   "source": [
    "# Character sets"
   ]
  },
  {
   "cell_type": "markdown",
   "id": "490f20df",
   "metadata": {},
   "source": [
    "\\w matches the alpha numeric characters [a-zA-Z0-9_]"
   ]
  },
  {
   "cell_type": "markdown",
   "id": "16efe96d",
   "metadata": {},
   "source": [
    "Make sure that, w doesn't stand for a 'word', it statnds for a single character"
   ]
  },
  {
   "cell_type": "markdown",
   "id": "0f72e0e4",
   "metadata": {},
   "source": [
    "\\W <-- The upper case 'w' is just the complement of the above"
   ]
  },
  {
   "cell_type": "markdown",
   "id": "dc8c66c0",
   "metadata": {},
   "source": [
    "# Quantifiers"
   ]
  },
  {
   "cell_type": "code",
   "execution_count": null,
   "id": "3390c14e",
   "metadata": {},
   "outputs": [],
   "source": [
    "+  --> 1 or more"
   ]
  },
  {
   "cell_type": "code",
   "execution_count": null,
   "id": "a4cc63b4",
   "metadata": {},
   "outputs": [],
   "source": [
    "? --> 0 or 1"
   ]
  },
  {
   "cell_type": "code",
   "execution_count": null,
   "id": "d9a55ba7",
   "metadata": {},
   "outputs": [],
   "source": [
    "* --> 0 or more"
   ]
  },
  {
   "cell_type": "code",
   "execution_count": null,
   "id": "2d67793b",
   "metadata": {},
   "outputs": [],
   "source": [
    "{min,max} --> constrained number of characters."
   ]
  },
  {
   "cell_type": "code",
   "execution_count": null,
   "id": "84badf21",
   "metadata": {},
   "outputs": [],
   "source": [
    "{min,} and {,max} --> Lower bound and upper bound"
   ]
  },
  {
   "cell_type": "markdown",
   "id": "d6fd4bd9",
   "metadata": {},
   "source": [
    "# More types of character sets"
   ]
  },
  {
   "cell_type": "code",
   "execution_count": null,
   "id": "cc90331c",
   "metadata": {},
   "outputs": [],
   "source": []
  },
  {
   "cell_type": "code",
   "execution_count": null,
   "id": "0e2a026e",
   "metadata": {},
   "outputs": [],
   "source": []
  },
  {
   "cell_type": "code",
   "execution_count": 63,
   "id": "9cc6a6e4",
   "metadata": {},
   "outputs": [],
   "source": [
    "text = 'a book or other written or printed work, regarded in terms of its content rather than its physical form'"
   ]
  },
  {
   "cell_type": "code",
   "execution_count": 65,
   "id": "0f9956ac",
   "metadata": {},
   "outputs": [],
   "source": [
    "import re"
   ]
  },
  {
   "cell_type": "code",
   "execution_count": 71,
   "id": "3fe218c1",
   "metadata": {},
   "outputs": [],
   "source": [
    "_word_list = re.findall('\\S+', text)"
   ]
  },
  {
   "cell_type": "code",
   "execution_count": 77,
   "id": "da095574",
   "metadata": {},
   "outputs": [
    {
     "ename": "NameError",
     "evalue": "name 'count' is not defined",
     "output_type": "error",
     "traceback": [
      "\u001b[1;31m---------------------------------------------------------------------------\u001b[0m",
      "\u001b[1;31mNameError\u001b[0m                                 Traceback (most recent call last)",
      "\u001b[1;32m~\\AppData\\Local\\Temp/ipykernel_13780/886529813.py\u001b[0m in \u001b[0;36m<module>\u001b[1;34m\u001b[0m\n\u001b[1;32m----> 1\u001b[1;33m \u001b[0mcount\u001b[0m\u001b[1;33m(\u001b[0m\u001b[0m_word_list\u001b[0m\u001b[1;33m)\u001b[0m\u001b[1;33m\u001b[0m\u001b[1;33m\u001b[0m\u001b[0m\n\u001b[0m",
      "\u001b[1;31mNameError\u001b[0m: name 'count' is not defined"
     ]
    }
   ],
   "source": []
  },
  {
   "cell_type": "code",
   "execution_count": 102,
   "id": "a40b07db",
   "metadata": {},
   "outputs": [
    {
     "data": {
      "text/plain": [
       "['book',\n",
       " 'othe',\n",
       " 'writ',\n",
       " 'prin',\n",
       " 'work',\n",
       " 'rega',\n",
       " 'rded',\n",
       " 'term',\n",
       " 'cont',\n",
       " 'rath',\n",
       " 'than',\n",
       " 'phys',\n",
       " 'ical',\n",
       " 'form']"
      ]
     },
     "execution_count": 102,
     "metadata": {},
     "output_type": "execute_result"
    }
   ],
   "source": [
    "re.findall('\\w{4}', text)"
   ]
  },
  {
   "cell_type": "code",
   "execution_count": 94,
   "id": "2edcdca2",
   "metadata": {},
   "outputs": [
    {
     "data": {
      "text/plain": [
       "False"
      ]
     },
     "execution_count": 94,
     "metadata": {},
     "output_type": "execute_result"
    }
   ],
   "source": [
    "test = ''\n",
    "\n",
    "bool(re.search('w+',test))"
   ]
  },
  {
   "cell_type": "markdown",
   "id": "1954aa58",
   "metadata": {},
   "source": [
    "*Q. Find the words from a text, who have len 4\n",
    "\n",
    "*Q. Find the words from a text, who have len greater than 4\n",
    "\n",
    "*Q. Find the words from a text, who have len less than 4\n"
   ]
  },
  {
   "cell_type": "markdown",
   "id": "971faeed",
   "metadata": {},
   "source": [
    "#### Learning points\n",
    "\n",
    "1. Quantifiers --> +, ? , *, {n,m}, {n,},{,m}\n",
    "2. Character sets --> w/W, "
   ]
  }
 ],
 "metadata": {
  "kernelspec": {
   "display_name": "Python 3 (ipykernel)",
   "language": "python",
   "name": "python3"
  },
  "language_info": {
   "codemirror_mode": {
    "name": "ipython",
    "version": 3
   },
   "file_extension": ".py",
   "mimetype": "text/x-python",
   "name": "python",
   "nbconvert_exporter": "python",
   "pygments_lexer": "ipython3",
   "version": "3.9.7"
  }
 },
 "nbformat": 4,
 "nbformat_minor": 5
}
