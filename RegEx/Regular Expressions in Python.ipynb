{
 "cells": [
  {
   "cell_type": "markdown",
   "id": "90c403fe",
   "metadata": {},
   "source": [
    "# Basic Begining of regular expressions \n",
    "\n",
    "### Acknowledgement and  reference : \n",
    "\n",
    "I am Thankful to **pymoondra** for awsome series on the ```Regular expressions```\n",
    "\n",
    "- [pymoondra youtube channel](https://www.youtube.com/watch?v=VU60rEXaOXk&list=PLGKQkV4guDKH1TpfM-FvPGLUyjsPGdXOg&index=1)\n",
    "- [pymoondra github link](https://github.com/moondra2017/Python-Regular-Expressions)"
   ]
  },
  {
   "cell_type": "code",
   "execution_count": 8,
   "id": "f3d13013",
   "metadata": {},
   "outputs": [],
   "source": [
    "import re\n",
    "re.search('\\n',r'\\n\\n\\n\\n\\n')"
   ]
  },
  {
   "cell_type": "code",
   "execution_count": 11,
   "id": "4660ad19",
   "metadata": {},
   "outputs": [
    {
     "data": {
      "text/plain": [
       "<re.Match object; span=(2, 3), match='c'>"
      ]
     },
     "execution_count": 11,
     "metadata": {},
     "output_type": "execute_result"
    }
   ],
   "source": [
    "re.search('c','bacdef')"
   ]
  },
  {
   "cell_type": "code",
   "execution_count": 10,
   "id": "a267731b",
   "metadata": {},
   "outputs": [],
   "source": [
    "re.match('c','abcdef')"
   ]
  },
  {
   "cell_type": "code",
   "execution_count": 12,
   "id": "3c7b76d5",
   "metadata": {},
   "outputs": [
    {
     "data": {
      "text/plain": [
       "False"
      ]
     },
     "execution_count": 12,
     "metadata": {},
     "output_type": "execute_result"
    }
   ],
   "source": [
    "bool(re.match('c','abcdef'))"
   ]
  },
  {
   "cell_type": "code",
   "execution_count": 13,
   "id": "70b6152c",
   "metadata": {},
   "outputs": [
    {
     "data": {
      "text/plain": [
       "True"
      ]
     },
     "execution_count": 13,
     "metadata": {},
     "output_type": "execute_result"
    }
   ],
   "source": [
    "bool(re.search('c','abcdef'))"
   ]
  },
  {
   "cell_type": "code",
   "execution_count": 14,
   "id": "df6e506e",
   "metadata": {},
   "outputs": [
    {
     "data": {
      "text/plain": [
       "<re.Match object; span=(2, 3), match='c'>"
      ]
     },
     "execution_count": 14,
     "metadata": {},
     "output_type": "execute_result"
    }
   ],
   "source": [
    "re.search('c','abcecedfec')"
   ]
  },
  {
   "cell_type": "code",
   "execution_count": 15,
   "id": "9119af51",
   "metadata": {},
   "outputs": [],
   "source": [
    "re.match('c','abcecedfec')"
   ]
  },
  {
   "cell_type": "code",
   "execution_count": 16,
   "id": "7c24d257",
   "metadata": {},
   "outputs": [
    {
     "data": {
      "text/plain": [
       "['c', 'c', 'c']"
      ]
     },
     "execution_count": 16,
     "metadata": {},
     "output_type": "execute_result"
    }
   ],
   "source": [
    "re.findall('c','abcecedfec')"
   ]
  },
  {
   "cell_type": "code",
   "execution_count": 18,
   "id": "ab04a66a",
   "metadata": {},
   "outputs": [
    {
     "data": {
      "text/plain": [
       "<re.Match object; span=(6, 7), match='c'>"
      ]
     },
     "execution_count": 18,
     "metadata": {},
     "output_type": "execute_result"
    }
   ],
   "source": [
    "re.search('c','abdef\\ncdbac')"
   ]
  },
  {
   "cell_type": "code",
   "execution_count": 19,
   "id": "16bb05ba",
   "metadata": {},
   "outputs": [],
   "source": [
    "re.match('c','abdef\\ncdbac')"
   ]
  },
  {
   "cell_type": "code",
   "execution_count": 20,
   "id": "1d01fd38",
   "metadata": {},
   "outputs": [
    {
     "data": {
      "text/plain": [
       "['c', 'c']"
      ]
     },
     "execution_count": 20,
     "metadata": {},
     "output_type": "execute_result"
    }
   ],
   "source": [
    "re.findall('c','abdef\\ncdbac')"
   ]
  },
  {
   "cell_type": "code",
   "execution_count": 21,
   "id": "10242875",
   "metadata": {},
   "outputs": [
    {
     "data": {
      "text/plain": [
       "'c'"
      ]
     },
     "execution_count": 21,
     "metadata": {},
     "output_type": "execute_result"
    }
   ],
   "source": [
    "re.search('c','abdef\\ncdbac').group()"
   ]
  },
  {
   "cell_type": "code",
   "execution_count": 27,
   "id": "f66b5f26",
   "metadata": {},
   "outputs": [
    {
     "data": {
      "text/plain": [
       "['c', 'c']"
      ]
     },
     "execution_count": 27,
     "metadata": {},
     "output_type": "execute_result"
    }
   ],
   "source": [
    "re.findall('c','abdef\\ncdbac')"
   ]
  },
  {
   "cell_type": "code",
   "execution_count": 33,
   "id": "87644a0b",
   "metadata": {},
   "outputs": [
    {
     "data": {
      "text/plain": [
       "<re.Match object; span=(4, 5), match='n'>"
      ]
     },
     "execution_count": 33,
     "metadata": {},
     "output_type": "execute_result"
    }
   ],
   "source": [
    "re.search(r'n|a|b',r'def\\ncdbac')"
   ]
  },
  {
   "cell_type": "code",
   "execution_count": 34,
   "id": "a8de1ee4",
   "metadata": {},
   "outputs": [
    {
     "data": {
      "text/plain": [
       "['n', 'b', 'a']"
      ]
     },
     "execution_count": 34,
     "metadata": {},
     "output_type": "execute_result"
    }
   ],
   "source": [
    "re.findall(r'n|a|b',r'def\\ncdbac')"
   ]
  },
  {
   "cell_type": "code",
   "execution_count": 35,
   "id": "467d2ca8",
   "metadata": {},
   "outputs": [],
   "source": [
    "re.match(r'n|a|b',r'def\\ncdbac')"
   ]
  },
  {
   "cell_type": "code",
   "execution_count": 36,
   "id": "abd89dc5",
   "metadata": {},
   "outputs": [
    {
     "data": {
      "text/plain": [
       "<re.Match object; span=(0, 1), match='a'>"
      ]
     },
     "execution_count": 36,
     "metadata": {},
     "output_type": "execute_result"
    }
   ],
   "source": [
    "re.match(r'n|a|b',r'abdef\\ncdbac')"
   ]
  },
  {
   "cell_type": "code",
   "execution_count": 40,
   "id": "8670c710",
   "metadata": {},
   "outputs": [
    {
     "data": {
      "text/plain": [
       "<re.Match object; span=(0, 2), match='ab'>"
      ]
     },
     "execution_count": 40,
     "metadata": {},
     "output_type": "execute_result"
    }
   ],
   "source": [
    "re.search('ab',r'abdef\\ncdbbabc')"
   ]
  },
  {
   "cell_type": "code",
   "execution_count": 41,
   "id": "94804285",
   "metadata": {},
   "outputs": [
    {
     "data": {
      "text/plain": [
       "<re.Match object; span=(0, 2), match='ab'>"
      ]
     },
     "execution_count": 41,
     "metadata": {},
     "output_type": "execute_result"
    }
   ],
   "source": [
    "re.match('ab',r'abdef\\ncdbabc')"
   ]
  },
  {
   "cell_type": "code",
   "execution_count": 47,
   "id": "ff6da89e",
   "metadata": {},
   "outputs": [
    {
     "data": {
      "text/plain": [
       "0"
      ]
     },
     "execution_count": 47,
     "metadata": {},
     "output_type": "execute_result"
    }
   ],
   "source": [
    "re.findall('ab',r'abdef\\ncdbabc')"
   ]
  },
  {
   "cell_type": "markdown",
   "id": "710bac3b",
   "metadata": {},
   "source": [
    "1. Match, \n",
    "2. RawString , \n",
    "3. backslash charaters , \n",
    "4. Search, \n",
    "5. Findall, \n",
    "6. Group(), \n",
    "7. Or pattern"
   ]
  },
  {
   "cell_type": "code",
   "execution_count": 48,
   "id": "904b3234",
   "metadata": {},
   "outputs": [
    {
     "data": {
      "text/plain": [
       "<re.Match object; span=(2, 3), match='a'>"
      ]
     },
     "execution_count": 48,
     "metadata": {},
     "output_type": "execute_result"
    }
   ],
   "source": [
    "re.search('a','black')"
   ]
  },
  {
   "cell_type": "code",
   "execution_count": 49,
   "id": "661d6d9e",
   "metadata": {},
   "outputs": [],
   "source": [
    "re.match('a','black')"
   ]
  },
  {
   "cell_type": "code",
   "execution_count": 51,
   "id": "bc082f4e",
   "metadata": {},
   "outputs": [
    {
     "data": {
      "text/plain": [
       "False"
      ]
     },
     "execution_count": 51,
     "metadata": {},
     "output_type": "execute_result"
    }
   ],
   "source": [
    "bool(re.match('a','mango'))"
   ]
  },
  {
   "cell_type": "code",
   "execution_count": 52,
   "id": "9cd31f9b",
   "metadata": {},
   "outputs": [
    {
     "data": {
      "text/plain": [
       "True"
      ]
     },
     "execution_count": 52,
     "metadata": {},
     "output_type": "execute_result"
    }
   ],
   "source": [
    "bool(re.match('a','ant'))"
   ]
  },
  {
   "cell_type": "code",
   "execution_count": 53,
   "id": "44f9ae63",
   "metadata": {},
   "outputs": [
    {
     "data": {
      "text/plain": [
       "['a', 'a', 'a']"
      ]
     },
     "execution_count": 53,
     "metadata": {},
     "output_type": "execute_result"
    }
   ],
   "source": [
    "re.findall('a','alibaba')"
   ]
  },
  {
   "cell_type": "code",
   "execution_count": 55,
   "id": "74cf759b",
   "metadata": {},
   "outputs": [
    {
     "data": {
      "text/plain": [
       "'a'"
      ]
     },
     "execution_count": 55,
     "metadata": {},
     "output_type": "execute_result"
    }
   ],
   "source": [
    "re.search('a','alibaba').group()"
   ]
  },
  {
   "cell_type": "code",
   "execution_count": 56,
   "id": "9e0fb682",
   "metadata": {},
   "outputs": [
    {
     "data": {
      "text/plain": [
       "['a', 'a', 'a']"
      ]
     },
     "execution_count": 56,
     "metadata": {},
     "output_type": "execute_result"
    }
   ],
   "source": [
    "re.findall('a','alibaba')"
   ]
  },
  {
   "cell_type": "code",
   "execution_count": 60,
   "id": "4ea1efcc",
   "metadata": {},
   "outputs": [
    {
     "data": {
      "text/plain": [
       "True"
      ]
     },
     "execution_count": 60,
     "metadata": {},
     "output_type": "execute_result"
    }
   ],
   "source": [
    "bool(re.search('b|a|n','findall'))"
   ]
  },
  {
   "cell_type": "markdown",
   "id": "051e52c2",
   "metadata": {},
   "source": [
    "# Character sets"
   ]
  },
  {
   "cell_type": "markdown",
   "id": "05d43b2f",
   "metadata": {},
   "source": [
    "\\w matches the alpha numeric characters [a-zA-Z0-9_]"
   ]
  },
  {
   "cell_type": "markdown",
   "id": "7dad15cb",
   "metadata": {},
   "source": [
    "Make sure that, w doesn't stand for a 'word', it statnds for a single character"
   ]
  },
  {
   "cell_type": "markdown",
   "id": "b7756a62",
   "metadata": {},
   "source": [
    "\\W <-- The upper case 'w' is just the complement of the above"
   ]
  },
  {
   "cell_type": "markdown",
   "id": "e8fb0207",
   "metadata": {},
   "source": [
    "# Quantifiers"
   ]
  },
  {
   "cell_type": "code",
   "execution_count": null,
   "id": "6b9d75d2",
   "metadata": {},
   "outputs": [],
   "source": [
    "+  --> 1 or more"
   ]
  },
  {
   "cell_type": "code",
   "execution_count": null,
   "id": "de5ad1a8",
   "metadata": {},
   "outputs": [],
   "source": [
    "? --> 0 or 1"
   ]
  },
  {
   "cell_type": "code",
   "execution_count": null,
   "id": "a6c16d1e",
   "metadata": {},
   "outputs": [],
   "source": [
    "* --> 0 or more"
   ]
  },
  {
   "cell_type": "code",
   "execution_count": null,
   "id": "a785d531",
   "metadata": {},
   "outputs": [],
   "source": [
    "{min,max} --> constrained number of characters."
   ]
  },
  {
   "cell_type": "code",
   "execution_count": null,
   "id": "5a44f57f",
   "metadata": {},
   "outputs": [],
   "source": [
    "{min,} and {,max} --> Lower bound and upper bound"
   ]
  },
  {
   "cell_type": "markdown",
   "id": "a376ad45",
   "metadata": {},
   "source": [
    "# More types of character sets"
   ]
  },
  {
   "cell_type": "code",
   "execution_count": null,
   "id": "50b1788f",
   "metadata": {},
   "outputs": [],
   "source": []
  },
  {
   "cell_type": "code",
   "execution_count": null,
   "id": "7f451f0e",
   "metadata": {},
   "outputs": [],
   "source": []
  },
  {
   "cell_type": "code",
   "execution_count": 63,
   "id": "935cb2dc",
   "metadata": {},
   "outputs": [],
   "source": [
    "text = 'a book or other written or printed work, regarded in terms of its content rather than its physical form'"
   ]
  },
  {
   "cell_type": "code",
   "execution_count": 65,
   "id": "f6906a62",
   "metadata": {},
   "outputs": [],
   "source": [
    "import re"
   ]
  },
  {
   "cell_type": "code",
   "execution_count": 71,
   "id": "1ae33b8e",
   "metadata": {},
   "outputs": [],
   "source": [
    "_word_list = re.findall('\\S+', text)"
   ]
  },
  {
   "cell_type": "code",
   "execution_count": 77,
   "id": "d0297013",
   "metadata": {},
   "outputs": [
    {
     "ename": "NameError",
     "evalue": "name 'count' is not defined",
     "output_type": "error",
     "traceback": [
      "\u001b[1;31m---------------------------------------------------------------------------\u001b[0m",
      "\u001b[1;31mNameError\u001b[0m                                 Traceback (most recent call last)",
      "\u001b[1;32m~\\AppData\\Local\\Temp/ipykernel_13780/886529813.py\u001b[0m in \u001b[0;36m<module>\u001b[1;34m\u001b[0m\n\u001b[1;32m----> 1\u001b[1;33m \u001b[0mcount\u001b[0m\u001b[1;33m(\u001b[0m\u001b[0m_word_list\u001b[0m\u001b[1;33m)\u001b[0m\u001b[1;33m\u001b[0m\u001b[1;33m\u001b[0m\u001b[0m\n\u001b[0m",
      "\u001b[1;31mNameError\u001b[0m: name 'count' is not defined"
     ]
    }
   ],
   "source": []
  },
  {
   "cell_type": "code",
   "execution_count": 102,
   "id": "c18a31b2",
   "metadata": {},
   "outputs": [
    {
     "data": {
      "text/plain": [
       "['book',\n",
       " 'othe',\n",
       " 'writ',\n",
       " 'prin',\n",
       " 'work',\n",
       " 'rega',\n",
       " 'rded',\n",
       " 'term',\n",
       " 'cont',\n",
       " 'rath',\n",
       " 'than',\n",
       " 'phys',\n",
       " 'ical',\n",
       " 'form']"
      ]
     },
     "execution_count": 102,
     "metadata": {},
     "output_type": "execute_result"
    }
   ],
   "source": [
    "re.findall('\\w{4}', text)"
   ]
  },
  {
   "cell_type": "code",
   "execution_count": 94,
   "id": "a11c0770",
   "metadata": {},
   "outputs": [
    {
     "data": {
      "text/plain": [
       "False"
      ]
     },
     "execution_count": 94,
     "metadata": {},
     "output_type": "execute_result"
    }
   ],
   "source": [
    "test = ''\n",
    "\n",
    "bool(re.search('w+',test))"
   ]
  },
  {
   "cell_type": "markdown",
   "id": "25ca40e0",
   "metadata": {},
   "source": [
    "*Q. Find the words from a text, who have len 4\n",
    "\n",
    "*Q. Find the words from a text, who have len greater than 4\n",
    "\n",
    "*Q. Find the words from a text, who have len less than 4\n"
   ]
  },
  {
   "cell_type": "markdown",
   "id": "5d5b9b43",
   "metadata": {},
   "source": [
    "#### Learning points\n",
    "\n",
    "1. Quantifiers --> +, ? , *, {n,m}, {n,},{,m}\n",
    "2. Character sets --> w/W, d/D, s/S\n",
    "3. Customized character sets --> [A-Z,.] etc..."
   ]
  },
  {
   "cell_type": "markdown",
   "id": "b37dc9c7",
   "metadata": {},
   "source": [
    "# Quantifiers with custom sets"
   ]
  },
  {
   "cell_type": "code",
   "execution_count": null,
   "id": "b675abfe",
   "metadata": {},
   "outputs": [],
   "source": []
  },
  {
   "cell_type": "code",
   "execution_count": null,
   "id": "c0140b8c",
   "metadata": {},
   "outputs": [],
   "source": []
  },
  {
   "cell_type": "code",
   "execution_count": null,
   "id": "77d37806",
   "metadata": {},
   "outputs": [],
   "source": []
  },
  {
   "cell_type": "markdown",
   "id": "692ae452",
   "metadata": {},
   "source": [
    "# Groups"
   ]
  },
  {
   "cell_type": "markdown",
   "id": "84974844",
   "metadata": {},
   "source": [
    "In groups we are going to wrap the search expression using --> ()"
   ]
  },
  {
   "cell_type": "code",
   "execution_count": null,
   "id": "be774b4d",
   "metadata": {},
   "outputs": [],
   "source": []
  },
  {
   "cell_type": "code",
   "execution_count": null,
   "id": "792c3c51",
   "metadata": {},
   "outputs": [],
   "source": []
  },
  {
   "cell_type": "code",
   "execution_count": null,
   "id": "504b1153",
   "metadata": {},
   "outputs": [],
   "source": []
  },
  {
   "cell_type": "code",
   "execution_count": null,
   "id": "561aeb67",
   "metadata": {},
   "outputs": [],
   "source": []
  },
  {
   "cell_type": "code",
   "execution_count": null,
   "id": "3628a3f8",
   "metadata": {},
   "outputs": [],
   "source": []
  },
  {
   "cell_type": "code",
   "execution_count": null,
   "id": "19d288fb",
   "metadata": {},
   "outputs": [],
   "source": []
  },
  {
   "cell_type": "code",
   "execution_count": 1,
   "id": "9a253d75",
   "metadata": {},
   "outputs": [],
   "source": [
    "#Non Capture groups"
   ]
  },
  {
   "cell_type": "code",
   "execution_count": 2,
   "id": "320208cf",
   "metadata": {},
   "outputs": [],
   "source": [
    "import re"
   ]
  },
  {
   "cell_type": "code",
   "execution_count": 13,
   "id": "c266a36d",
   "metadata": {},
   "outputs": [
    {
     "data": {
      "text/plain": [
       "'abababababab'"
      ]
     },
     "execution_count": 13,
     "metadata": {},
     "output_type": "execute_result"
    }
   ],
   "source": [
    "string = 'abababababab'  #ab repeated many times\n",
    "\n",
    "re.search('(ab)+', string).group()\n"
   ]
  },
  {
   "cell_type": "code",
   "execution_count": 5,
   "id": "e7fe7a76",
   "metadata": {},
   "outputs": [
    {
     "data": {
      "text/plain": [
       "['ab']"
      ]
     },
     "execution_count": 5,
     "metadata": {},
     "output_type": "execute_result"
    }
   ],
   "source": [
    "re.findall('(ab)+',string)"
   ]
  },
  {
   "cell_type": "code",
   "execution_count": 6,
   "id": "f2151642",
   "metadata": {},
   "outputs": [
    {
     "data": {
      "text/plain": [
       "'abababababab'"
      ]
     },
     "execution_count": 6,
     "metadata": {},
     "output_type": "execute_result"
    }
   ],
   "source": [
    "re.search('(ab)+', string).group()"
   ]
  },
  {
   "cell_type": "code",
   "execution_count": 8,
   "id": "4a42f1fc",
   "metadata": {},
   "outputs": [
    {
     "ename": "IndexError",
     "evalue": "no such group",
     "output_type": "error",
     "traceback": [
      "\u001b[1;31m---------------------------------------------------------------------------\u001b[0m",
      "\u001b[1;31mIndexError\u001b[0m                                Traceback (most recent call last)",
      "\u001b[1;32m~\\AppData\\Local\\Temp/ipykernel_18744/3437953571.py\u001b[0m in \u001b[0;36m<module>\u001b[1;34m\u001b[0m\n\u001b[1;32m----> 1\u001b[1;33m \u001b[0mre\u001b[0m\u001b[1;33m.\u001b[0m\u001b[0msearch\u001b[0m\u001b[1;33m(\u001b[0m\u001b[1;34m'(ab)+'\u001b[0m\u001b[1;33m,\u001b[0m \u001b[0mstring\u001b[0m\u001b[1;33m)\u001b[0m\u001b[1;33m.\u001b[0m\u001b[0mgroup\u001b[0m\u001b[1;33m(\u001b[0m\u001b[1;36m2\u001b[0m\u001b[1;33m)\u001b[0m\u001b[1;33m\u001b[0m\u001b[1;33m\u001b[0m\u001b[0m\n\u001b[0m",
      "\u001b[1;31mIndexError\u001b[0m: no such group"
     ]
    }
   ],
   "source": [
    "re.search('(ab)+', string).group()"
   ]
  },
  {
   "cell_type": "code",
   "execution_count": 14,
   "id": "ee338b1c",
   "metadata": {},
   "outputs": [
    {
     "data": {
      "text/plain": [
       "<re.Match object; span=(0, 4), match='abab'>"
      ]
     },
     "execution_count": 14,
     "metadata": {},
     "output_type": "execute_result"
    }
   ],
   "source": [
    "string = 'ababgfhgbababab' \n",
    "re.search('(ab)+',string)"
   ]
  },
  {
   "cell_type": "code",
   "execution_count": 11,
   "id": "4adadabe",
   "metadata": {},
   "outputs": [
    {
     "data": {
      "text/plain": [
       "['ab', 'ab']"
      ]
     },
     "execution_count": 11,
     "metadata": {},
     "output_type": "execute_result"
    }
   ],
   "source": [
    "re.findall('(ab)+',string) ##This is group --> Ekhane just 'ab' group tai khujchhe, kothao discontinued hole abar jodi pore\n",
    "##pay setao khuje nebe. Tobe mone rakhte hobe, j findall group er set return kore, are search prothom ta return kore."
   ]
  },
  {
   "cell_type": "markdown",
   "id": "a8ae71b0",
   "metadata": {},
   "source": [
    "+Ekhane just **```'ab'```** group tai khujchhe, kothao discontinued hole abar jodi pore\n",
    "pay setao khuje nebe. Tobe mone rakhte hobe, j ***findall*** group er set return kore, are ***search*** prothom ta return kore.\n",
    "\n",
    "+***```Group```*** er sathe ***```Character set```*** guliye felle cholbe na"
   ]
  },
  {
   "cell_type": "code",
   "execution_count": 12,
   "id": "7d57ccde",
   "metadata": {},
   "outputs": [
    {
     "data": {
      "text/plain": [
       "['aba', 'bababab']"
      ]
     },
     "execution_count": 12,
     "metadata": {},
     "output_type": "execute_result"
    }
   ],
   "source": [
    "re.findall('[ab]+',string)"
   ]
  },
  {
   "cell_type": "markdown",
   "id": "280905a5",
   "metadata": {},
   "source": [
    "**Its very important to identify that, whether the expression is *```one character```* group or *```two character```* group or *```more```***"
   ]
  },
  {
   "cell_type": "code",
   "execution_count": 15,
   "id": "c6cc0355",
   "metadata": {},
   "outputs": [
    {
     "data": {
      "text/plain": [
       "['9']"
      ]
     },
     "execution_count": 15,
     "metadata": {},
     "output_type": "execute_result"
    }
   ],
   "source": [
    "string = '123456789'\n",
    "\n",
    "re.findall('(\\d)+',string) #Please make a note that this is one character group"
   ]
  },
  {
   "cell_type": "code",
   "execution_count": 16,
   "id": "c679337c",
   "metadata": {},
   "outputs": [
    {
     "data": {
      "text/plain": [
       "['78']"
      ]
     },
     "execution_count": 16,
     "metadata": {},
     "output_type": "execute_result"
    }
   ],
   "source": [
    "re.findall('(\\d\\d)+',string) #This is two character group"
   ]
  },
  {
   "cell_type": "code",
   "execution_count": 17,
   "id": "bfcc7fba",
   "metadata": {},
   "outputs": [
    {
     "data": {
      "text/plain": [
       "['y', 'e', 's', 'h', 'I', 'm', 'a', 'e', 'l']"
      ]
     },
     "execution_count": 17,
     "metadata": {},
     "output_type": "execute_result"
    }
   ],
   "source": [
    "string = 'My name is Ritesh, I am a software professional'\n",
    "\n",
    "re.findall('(\\w)+',string)"
   ]
  },
  {
   "cell_type": "markdown",
   "id": "1d969a42",
   "metadata": {},
   "source": [
    "**Notes**\n",
    "\n",
    "1. The above has multiple spaces\n",
    "2. It will try to find one character group from each word updated till to the end of the word\n",
    "\n",
    "**Q. What if we add a space character in between ? like -> ```(\\w\\s)+```**"
   ]
  },
  {
   "cell_type": "code",
   "execution_count": 18,
   "id": "d3d32602",
   "metadata": {},
   "outputs": [
    {
     "data": {
      "text/plain": [
       "['y ', 'e ', 's ', 'I ', 'a ', 'e ']"
      ]
     },
     "execution_count": 18,
     "metadata": {},
     "output_type": "execute_result"
    }
   ],
   "source": [
    "re.findall('(\\w\\s)+',string)"
   ]
  },
  {
   "cell_type": "markdown",
   "id": "c08387a4",
   "metadata": {},
   "source": [
    "**Observations**\n",
    "\n",
    "1. The last word is not considered, as it doesn't have the **```space```** at the end. It doesn't match with the group **```(\\w\\s)```**\n",
    "\n",
    "2. It is a ***two character group***, we can see the trailing spaces."
   ]
  },
  {
   "cell_type": "markdown",
   "id": "eaff07cf",
   "metadata": {},
   "source": [
    "### Naming Groups"
   ]
  },
  {
   "cell_type": "code",
   "execution_count": 1,
   "id": "6f7b01c8",
   "metadata": {},
   "outputs": [],
   "source": [
    "string = 'New York, New York 11369'"
   ]
  },
  {
   "cell_type": "markdown",
   "id": "b53227ed",
   "metadata": {},
   "source": [
    "Remember **```[]```** is a single character, its just denotes the character set"
   ]
  },
  {
   "cell_type": "markdown",
   "id": "72a1f074",
   "metadata": {},
   "source": [
    "**```[A-Za-z\\s]+```** --> This character set will include all the alphabetcal characters and space"
   ]
  },
  {
   "cell_type": "code",
   "execution_count": 3,
   "id": "74745fa1",
   "metadata": {},
   "outputs": [],
   "source": [
    "import re\n",
    "\n",
    "match = re.match('[A-Za-z\\s]+', string)"
   ]
  },
  {
   "cell_type": "code",
   "execution_count": 4,
   "id": "42d96c4c",
   "metadata": {},
   "outputs": [
    {
     "data": {
      "text/plain": [
       "'New York'"
      ]
     },
     "execution_count": 4,
     "metadata": {},
     "output_type": "execute_result"
    }
   ],
   "source": [
    "match.group()"
   ]
  },
  {
   "cell_type": "code",
   "execution_count": 29,
   "id": "b10d51dd",
   "metadata": {},
   "outputs": [],
   "source": [
    "match = re.match('([A-Za-z\\s]+),([A-Za-z\\s]+)(\\d+)', string)"
   ]
  },
  {
   "cell_type": "code",
   "execution_count": 30,
   "id": "b342c5c5",
   "metadata": {},
   "outputs": [
    {
     "data": {
      "text/plain": [
       "'New York, New York 11369'"
      ]
     },
     "execution_count": 30,
     "metadata": {},
     "output_type": "execute_result"
    }
   ],
   "source": [
    "match.group()"
   ]
  },
  {
   "cell_type": "code",
   "execution_count": 33,
   "id": "0afcb341",
   "metadata": {},
   "outputs": [],
   "source": [
    "match = re.match('([A-Za-z\\s]+),([\\s\\d]+)', string)"
   ]
  },
  {
   "cell_type": "code",
   "execution_count": 36,
   "id": "f73765dc",
   "metadata": {},
   "outputs": [
    {
     "data": {
      "text/plain": [
       "' '"
      ]
     },
     "execution_count": 36,
     "metadata": {},
     "output_type": "execute_result"
    }
   ],
   "source": [
    "match.group(2)"
   ]
  },
  {
   "cell_type": "markdown",
   "id": "8f51deb9",
   "metadata": {},
   "source": [
    "**Q.** From ***```string = 'New York, New York 11369'```*** , can we bring the groups like ***```'New York', 'New York 11369', '11369'```***"
   ]
  },
  {
   "cell_type": "code",
   "execution_count": 37,
   "id": "47ebcff7",
   "metadata": {},
   "outputs": [],
   "source": [
    "string = 'New York, New York 11369'"
   ]
  },
  {
   "cell_type": "code",
   "execution_count": 44,
   "id": "cbe31321",
   "metadata": {},
   "outputs": [
    {
     "data": {
      "text/plain": [
       "[('New York', ' New York', '11369')]"
      ]
     },
     "execution_count": 44,
     "metadata": {},
     "output_type": "execute_result"
    }
   ],
   "source": [
    "re.findall('([a-zA-Z\\s]+),([a-zA-Z\\s\\d]+) (\\d+)',string)"
   ]
  },
  {
   "cell_type": "markdown",
   "id": "0f88ae48",
   "metadata": {},
   "source": [
    "#### Use of ```re.compile```\n",
    "\n",
    "- In re.compile we can just store the pattern to search in the string.\n",
    "- It makes the code more dynamic"
   ]
  },
  {
   "cell_type": "code",
   "execution_count": 45,
   "id": "8b796ab1",
   "metadata": {},
   "outputs": [
    {
     "data": {
      "text/plain": [
       "[('New York', ' New York', '11369')]"
      ]
     },
     "execution_count": 45,
     "metadata": {},
     "output_type": "execute_result"
    }
   ],
   "source": [
    "pattern = re.compile('([a-zA-Z\\s]+),([a-zA-Z\\s\\d]+) (\\d+)')\n",
    "re.findall(pattern,string)"
   ]
  },
  {
   "cell_type": "code",
   "execution_count": null,
   "id": "00e06c66",
   "metadata": {},
   "outputs": [],
   "source": []
  }
 ],
 "metadata": {
  "kernelspec": {
   "display_name": "Python 3 (ipykernel)",
   "language": "python",
   "name": "python3"
  },
  "language_info": {
   "codemirror_mode": {
    "name": "ipython",
    "version": 3
   },
   "file_extension": ".py",
   "mimetype": "text/x-python",
   "name": "python",
   "nbconvert_exporter": "python",
   "pygments_lexer": "ipython3",
   "version": "3.9.7"
  }
 },
 "nbformat": 4,
 "nbformat_minor": 5
}
